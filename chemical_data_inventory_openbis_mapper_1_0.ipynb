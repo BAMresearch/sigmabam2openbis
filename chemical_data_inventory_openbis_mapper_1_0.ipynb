{
 "cells": [
  {
   "attachments": {
    "b5042e6e-c94b-4479-aabe-21b821f0eb38.png": {
     "image/png": "[encoded data removed]"
    }
   },
   "cell_type": "markdown",
   "id": "469171f1-c5be-4c1f-8386-333d7a19faea",
   "metadata": {},
   "source": [
    "# SigmaBAM Chemical Inventory - Excel to openBIS Adapter\n",
    "\n",
    "## Goal\n",
    "This script converts a chemical inventory exported from **SigmaBAM** into a format compatible with **OpenBIS** batch upload via Excel. It ensures that chemical records follow OpenBIS structure and formatting, allowing efficient registration and future batch updates. Three Excel files are generated and saved locally:\n",
    "\n",
    "Register file: for uploading new chemicals to openBIS (always register before updating)\n",
    "\n",
    "Update file: for updating existing chemical entries\n",
    "\n",
    "Debug file: for verifying if the concentration column was added correctly\n",
    "\n",
    "---\n",
    "\n",
    "## Instructions\n",
    "\n",
    "### 1. **Export Your Excel File**\n",
    "- WARNING: The SigmaBAM software and browser give different entries when exported as Excel files. The software provides more data (some columns are hidden from the online infoportal). Please use the software to export the data.\n",
    "- Click the <img src=\"attachment:b5042e6e-c94b-4479-aabe-21b821f0eb38.png\" alt=\"Upload Button\" style=\"height:25px; vertical-align:bottom<;\"> icon to upload the file.\n",
    "- Ensure the file is clean (no merged cells, consistent headers).\n",
    "\n",
    "### 2. **In openBIS**\n",
    "- Navigate to:  \n",
    "  `Inventory > Materials`\n",
    "  \n",
    "- Create a new **Project** and a new **collection** to store your chemicals (if not done already). Take notes of the space code, project code, collection code or name as it will be used to register and update the chemicals in the correct place. Warning: the codes can differ from the names.\n",
    "\n",
    "### 3. **Run This Notebook**\n",
    "- Connect yourself to openBIS using a PAT or by typing your password, check the url variable to make sure you are on the right instance (training instance 'https://training.datastore.bam.de/' for testing purpose or main instance 'https://main.datastore.bam.de/') (url)\n",
    "- Find the collection you want to upload the chemicals in:\n",
    "- Run this notebook and select the appropriate collection by choosing space, project, and collection indexes\n",
    "- Modify the path to point to the exported Excel file (the excel file generated by SigmaBAM, see step 1) (source_path)\n",
    "- Choose the responsible person source from SigmaBAM, either \"AntragstellerIn\" or \"Gefahrstoffkoordinator*in\" (responsible_source)\n",
    "- (optional) Modify the generated excel file name, default name: \"UPDATE_CHEMICALS_YYYY_MM_DD.xlsx\" (update_output)\n",
    "- (optional) Modify the generated debug excel file name, default name: \"DEBUG_CHEMICALS_YYYY_MM_DD.xlsx\" (debug_output)\n",
    "- (optional) Modify the generated register excel file name, default name: \"REGISTER_CHEMICALS_YYYY_MM_DD.xlsx\" (debug_output)\n",
    "- The script will:\n",
    "  - Map the column names to openBIS-compatible property codes\n",
    "  - Format the data properly\n",
    "  - Output 3 final Excel files: register file, update file, debug file\n",
    "\n",
    "### 4. **Upload and update OpenBIS**\n",
    "- In OpenBIS, go to the right collection\n",
    "- Click `More > XLS Batch Register Objects`\n",
    "- Select the register Excel file.\n",
    "- The chemicals will be imported in bulk into the selected collection.\n",
    "\n",
    "- Click `More > XLS Batch Update Objects`\n",
    "- Select the update Excel file.\n",
    "- The chemicals will be imported in bulk into the selected collection.\n",
    "\n",
    "### 5. **Add GHS pictograms as datasets** (optional)\n",
    "\n",
    "- Download the pictogram images locally\n",
    "- Modify the path to point to the file that contains the images (local_ghs_folder)\n",
    "- Run the 2 last cells of the notebook to add a picture of the Globally Harmonized System of Classification and Labelling of Chemicals (GHS) pictograms as datasets for all registered chemicals in the collection you selected during step 3. The images will be saved as raw data. The script is checking if the pictograms have already been added, you can run the script multiple time without creating duplicates.\n",
    "\n",
    "---\n",
    "\n",
    "## Notes\n",
    "In case the import doesn't work properly:\n",
    "- Make sure you have the necessary **permissions** in openBIS.\n",
    "- Check if any **controlled vocabulary** fields need to match specific terms.\n",
    "  \n",
    "- The column \"description\" is empty, you can add whatever extra information that is not on the system.\n",
    "- The script is modular and can be adapted to other formats if needed.\n",
    "\n",
    "- 'Code' and 'Identifier' columns:\n",
    "    We use a 'Code' format like \"CHEM-X.Y-ZZZZ\" where:\n",
    "    - \"CHEM\" indicates chemical\n",
    "    - \"X.Y\" represents your division\n",
    "    - \"ZZZZ\" (last 4 digits) store the Umgang-Id from the SigmaBAM Excel file\n",
    "    These codes form stable unique keys linking SigmaBAM records to openBIS, essential for updates.\n",
    "\n",
    "    IMPORTANT:\n",
    "    - After upload, these codes must remain unchanged.\n",
    "    - Users can customize the Code string format before generating the file, but should keep the Umgang-Id at the end intact.\n",
    "    This ensures consistency between SigmaBAM and openBIS systems.\n",
    "\n",
    "---\n",
    "\n",
    "## Resources\n",
    "openBIS XLS Batch Upload Documentation:\n",
    "https://openbis.readthedocs.io/en/20.10.x/user-documentation/general-users/inventory-of-materials-and-methods.html#batch-register-entries-in-a-collection\n",
    "\n",
    "## Contact\n",
    "For help, comments or improvements, reach out to: https://github.com/TomCharlesRousseau\n",
    "\n",
    "---\n",
    "\n",
    "## Version\n",
    "version 1.0"
   ]
  },
  {
   "cell_type": "markdown",
   "id": "683384e0-82bb-4fb7-bbda-45f0ce4b54c0",
   "metadata": {},
   "source": [
    "# Connect yourself to OpenBIS"
   ]
  },
  {
   "cell_type": "code",
   "execution_count": 1,
   "id": "0c9701f0-7fea-49e5-8c75-6d1fdce174c6",
   "metadata": {},
   "outputs": [
    {
     "name": "stdin",
     "output_type": "stream",
     "text": [
      "Enter password for user troussea at https://training.datastore.bam.de/:  ········\n"
     ]
    },
    {
     "name": "stdout",
     "output_type": "stream",
     "text": [
      "Server: training.datastore.bam.de (openBIS 20.10.11.1, API 3.7)\n",
      "UserId: troussea (Tom Rousseau, tom.rousseau@bam.de)\n",
      "Space : X.1_TROUSSEA\n"
     ]
    }
   ],
   "source": [
    "from pybis import Openbis\n",
    "# url = 'https://main.datastore.bam.de/'\n",
    "url = 'https://training.datastore.bam.de/'\n",
    "pat = '' # leave empty to read token from file or authenticate with username\n",
    "userid = '' # leave empty to use the username from your local machine\n",
    "space  = '' # leave empty to use the users home space\n",
    "\n",
    "try:\n",
    "    from os import environ\n",
    "    pat = pat or open(environ.get('OPENBIS_PAT_FILE', 'OPENBIS_PAT.txt'), 'r').read().strip()\n",
    "    o = Openbis(url, token=pat)\n",
    "    userid = o.token.split('-')[1]\n",
    "except:\n",
    "    from getpass import getuser, getpass\n",
    "    o = Openbis(url)\n",
    "    userid = userid.lower() or getuser()\n",
    "    password = getpass('Enter password for user {} at {}: '.format(userid, url))\n",
    "    o.login(userid, password)\n",
    "server_info = o.get_server_information()\n",
    "person = o.get_person(userid)\n",
    "space = space.upper() or person.space\n",
    "\n",
    "print('Server: {} (openBIS {}, API {})'.format(o.hostname, server_info.openbis_version, server_info.api_version))\n",
    "print('UserId: {} ({} {}, {})'.format(person.userId, person.firstName, person.lastName, person.email))\n",
    "print('Space : {}'.format(space))"
   ]
  },
  {
   "cell_type": "markdown",
   "id": "cb8f9e48-cb58-47a0-a4b0-61aaf3084ea0",
   "metadata": {},
   "source": [
    "# Manual Collection Creation Reminder\n",
    "\n",
    "Please create the collection manually in your division's inventory space under the specific project.\n",
    "\n",
    "Note that the collection is identified by its code, which may differ from its display name. Currently, collection names cannot be set or modified via pybis—they can only be managed directly in openBIS. This is why manual creation of the collection is recommended.\n",
    "\n",
    "The script below helps you verify the existence of the desired collection. When running it, select the index corresponding to the Space where your collection resides, then choose the Project, and finally the Collection itself.\n",
    "\n",
    "This selected collection will later be used to generate an \"Identifier\" for your samples, enabling batch updates in openBIS via the Batch Update function."
   ]
  },
  {
   "cell_type": "code",
   "execution_count": 2,
   "id": "c5ebfea3-f0ab-43cc-81e2-c2f1474babbf",
   "metadata": {},
   "outputs": [
    {
     "name": "stdout",
     "output_type": "stream",
     "text": [
      "Available spaces:\n",
      "0: ELN_SETTINGS\n",
      "1: X.1_ELN_SETTINGS\n",
      "2: X.1_EQUIPMENT\n",
      "3: X.1_MATERIALS\n",
      "4: X.1_METHODS\n",
      "5: X.1_PUBLICATIONS\n",
      "6: X.1_STORAGE\n",
      "7: X.1_ABAMUSER\n",
      "8: X.1_EBAMUSER\n",
      "9: X.1_MBAMUSER\n",
      "10: X.1_PBAMUSER\n",
      "11: BAM_EQUIPMENT\n",
      "12: BAM_MATERIALS\n",
      "13: BAM_METHODS\n",
      "14: BAM_PUBLICATIONS\n",
      "15: BAM_GLOBAL\n",
      "16: 00_DEMO\n",
      "17: X.1_ASCHELLE\n",
      "18: X.1_BMIELLER\n",
      "19: X.1_CDEMIDOV\n",
      "20: X.1_DMCMAHON\n",
      "21: X.1_EESCHE\n",
      "22: X.1_GESPINOZ\n",
      "23: X.1_HKUNTE\n",
      "24: X.1_JGUENSTE\n",
      "25: X.1_JRAEDLER\n",
      "26: X.1_JSCHUMAC\n",
      "27: X.1_JSONG1\n",
      "28: X.1_KSCHWIBB\n",
      "29: X.1_LSCHEFFO\n",
      "30: X.1_RBANASIA\n",
      "31: X.1_SOBERBEC\n",
      "32: X.1_TROUSSEA\n",
      "33: X.1_BMARTENS\n",
      "34: X.1_HBRESCH\n",
      "35: X.1_LPYZA\n",
      "36: X.1_MHIRSCHV\n",
      "37: X.1_MJULSETH\n"
     ]
    },
    {
     "name": "stdin",
     "output_type": "stream",
     "text": [
      "Select a space by index:  3\n"
     ]
    },
    {
     "name": "stdout",
     "output_type": "stream",
     "text": [
      "Projects in space X.1_MATERIALS:\n",
      "0: PROJECT_CONSUMABLES\n",
      "1: DEMOS\n",
      "2: CONSUMABLES\n"
     ]
    },
    {
     "name": "stdin",
     "output_type": "stream",
     "text": [
      "Select a project by index:  2\n"
     ]
    },
    {
     "name": "stdout",
     "output_type": "stream",
     "text": [
      "Collections in X.1_MATERIALS/CONSUMABLES:\n",
      "0: CONSUMABLES_EXP_2, Name: Sample\n",
      "1: BATCH_REGISTRATION_STORAGE_2, Name: TOM STORAGE\n",
      "2: KITS, Name: Kit\n",
      "3: CONSUMABLES_EXP_3, Name: Test_Batch_registration_storage\n",
      "4: CONSUMABLES_EXP_4, Name: Test_Chemicals_with_responsible_person\n",
      "5: CONSUMABLES_PICTOGRAMS, Name: Pictograms\n",
      "6: CONSUMABLES_EXP_1, Name: Chemicals\n",
      "7: BATCH_REGISTRATION_STORAGE, Name: CHEMICALS_REGIST\n"
     ]
    },
    {
     "name": "stdin",
     "output_type": "stream",
     "text": [
      "Select a collection by index:  1\n"
     ]
    },
    {
     "name": "stdout",
     "output_type": "stream",
     "text": [
      "\n",
      "\n",
      "----------------------------------------------------------------------------------------------------\n",
      "\n",
      "Selected:\n",
      "Space Code: X.1_MATERIALS\n",
      "Project Code: CONSUMABLES\n",
      "Collection Code: BATCH_REGISTRATION_STORAGE_2, Collection Name: TOM STORAGE\n",
      "\n",
      "\n",
      "----------------------------------------------------------------------------------------------------\n",
      "\n",
      "Sample path prefix:\n",
      "/X.1_MATERIALS/CONSUMABLES/BATCH_REGISTRATION_STORAGE_2/\n",
      "\n",
      "\n",
      "----------------------------------------------------------------------------------------------------\n",
      "\n",
      "Identifier prefix:\n",
      "/X.1_MATERIALS/CONSUMABLES/\n"
     ]
    }
   ],
   "source": [
    "def choose_from_list(items, prompt):\n",
    "    while True:\n",
    "        try:\n",
    "            idx = int(input(prompt))\n",
    "            if 0 <= idx < len(items):\n",
    "                return items[idx]\n",
    "            else:\n",
    "                logging.warning(f\"Input out of range: {idx}\")\n",
    "                print(f\"Please enter a number between 0 and {len(items)-1}\")\n",
    "        except ValueError:\n",
    "            logging.warning(\"Invalid input: not an integer\")\n",
    "            print(\"Please enter a valid integer.\")\n",
    "\n",
    "\n",
    "# Show available spaces (code), prompt the user to input the index number of the desired space\n",
    "spaces = o.get_spaces()\n",
    "print(\"Available spaces:\")\n",
    "for i, s in enumerate(spaces):\n",
    "    print(f\"{i}: {s.code}\")\n",
    "space = choose_from_list(spaces, \"Select a space by index: \")\n",
    "\n",
    "# Show available project (code) within the selected space, prompt the user to input the index number of the desired project\n",
    "projects = o.get_projects(space=space.code)\n",
    "print(f\"Projects in space {space.code}:\")\n",
    "for i, p in enumerate(projects):\n",
    "    print(f\"{i}: {p.code}\")\n",
    "project = choose_from_list(projects, \"Select a project by index: \")\n",
    "\n",
    "# Show available collection (code and name) within the selected project, prompt the user to input the index number of the desired collection\n",
    "collections = [c for c in o.get_experiments(space=space.code, project=project.code) if c.type == \"COLLECTION\"]\n",
    "print(f\"Collections in {space.code}/{project.code}:\")\n",
    "for i, c in enumerate(collections):\n",
    "    print(f\"{i}: {c.code}, Name: {c.props.get('$name')}\")\n",
    "collection = choose_from_list(collections, \"Select a collection by index: \")\n",
    "print(\"\\n\")\n",
    "print(\"-\" * 100)\n",
    "print(\"\\nSelected:\")\n",
    "print(f\"Space Code: {space.code}\")\n",
    "print(f\"Project Code: {project.code}\")\n",
    "print(f\"Collection Code: {collection.code}, Collection Name: {collection.props.get('$name')}\")\n",
    "print(\"\\n\")\n",
    "print(\"-\" * 100)\n",
    "print(\"\\nSample path prefix:\")\n",
    "sample_path_openbis_prefix = f\"/{space.code}/{project.code}/{collection.code}/\"\n",
    "print(sample_path_openbis_prefix)\n",
    "print(\"\\n\")\n",
    "print(\"-\" * 100)\n",
    "print(\"\\nIdentifier prefix:\")\n",
    "identifier_prefix =f\"/{space.code}/{project.code}/\"\n",
    "print(identifier_prefix)"
   ]
  },
  {
   "cell_type": "markdown",
   "id": "17faf5ff-45c9-4313-a8c2-98b41af99f59",
   "metadata": {},
   "source": [
    "# Generate openBIS readable excel"
   ]
  },
  {
   "cell_type": "markdown",
   "id": "22d8b78d-7106-4a92-985c-9909e2e2c6ef",
   "metadata": {},
   "source": [
    "# Imports and global variables"
   ]
  },
  {
   "cell_type": "code",
   "execution_count": 3,
   "id": "fb12a206-b36a-458d-9051-bfb6e4355cb4",
   "metadata": {},
   "outputs": [],
   "source": [
    "from datetime import datetime\n",
    "import pandas as pd\n",
    "from openpyxl import load_workbook\n",
    "from openpyxl.styles import Font, PatternFill\n",
    "import re\n",
    "import os\n",
    "import logging\n",
    "import shutil"
   ]
  },
  {
   "cell_type": "markdown",
   "id": "27415e7d-c7bb-4696-87c8-f848314b9075",
   "metadata": {},
   "source": [
    "# Variable to be changed"
   ]
  },
  {
   "cell_type": "markdown",
   "id": "5bc23871-a243-4b58-987b-a9d65069e68b",
   "metadata": {},
   "source": [
    "Manually select the Excel source file generated by SigmaBAM"
   ]
  },
  {
   "cell_type": "code",
   "execution_count": 5,
   "id": "86082b18-360e-4a3a-b1b1-e9f1508558b9",
   "metadata": {},
   "outputs": [
    {
     "name": "stdout",
     "output_type": "stream",
     "text": [
      "Selected file: C:\\Users\\troussea\\Downloads\\2025-06-20_Chemicals_TESTFORAPI.xlsx\n"
     ]
    }
   ],
   "source": [
    "import tkinter as tk\n",
    "from tkinter import filedialog\n",
    "from pathlib import Path\n",
    "\n",
    "# Hide the main Tkinter window\n",
    "root = tk.Tk()\n",
    "root.withdraw()\n",
    "\n",
    "# Ask the user to select a file\n",
    "file_path = filedialog.askopenfilename(\n",
    "    title=\"Select Excel source file generated by SigmaBAM\",\n",
    "    filetypes=[(\"Excel files\", \"*.xlsx *.xls\")]\n",
    ")\n",
    "\n",
    "if file_path:\n",
    "    source_path = Path(file_path)\n",
    "    print(f\"Selected file: {source_path}\")\n",
    "else:\n",
    "    print(\"No file selected.\")"
   ]
  },
  {
   "cell_type": "markdown",
   "id": "d9014388-0207-48db-a25b-e83374ee2b35",
   "metadata": {},
   "source": [
    "If not working copy paste the path of the source file and uncomment the following line"
   ]
  },
  {
   "cell_type": "code",
   "execution_count": null,
   "id": "50f3995c-c443-4df4-aace-2d52852ddb52",
   "metadata": {},
   "outputs": [],
   "source": [
    "#source_path = r\"\"  # Input file (source excel file generated from SigmaBAM)"
   ]
  },
  {
   "cell_type": "code",
   "execution_count": 6,
   "id": "2d03a8bc-310c-4188-925d-20c57c07f2c5",
   "metadata": {},
   "outputs": [],
   "source": [
    "# Output Paths\n",
    "today = datetime.today().strftime(\"%Y_%m_%d\")\n",
    "update_output = f\"UPDATE_CHEMICALS_{today}.xlsx\" # optional change\n",
    "debug_output = f\"DEBUG_CHEMICALS_{today}.xlsx\" # optional change\n",
    "register_output = f\"REGISTER_CHEMICALS_{today}.xlsx\" # optional change\n",
    "\n",
    "# Choose the responsible person source from SigmaBAM (comment the other line with # symbol) either \"AntragstellerIn\" or \"Gefahrstoffkoordinator*in\" \n",
    "responsible_source = \"AntragstellerIn\"\n",
    "# responsible_source = \"Gefahrstoffkoordinator*in\" "
   ]
  },
  {
   "cell_type": "code",
   "execution_count": 7,
   "id": "c08288ab-5e34-4820-b034-056a718c12d8",
   "metadata": {},
   "outputs": [],
   "source": [
    "# Column mapping\n",
    "column_map = {\n",
    "    \"Handelsname\": \"Name\",\n",
    "    \"Synonyme\": \"Alternative Name\",\n",
    "    \"CAS-Nr\": \"CAS Registry Number\",\n",
    "    \"Hersteller\": \"Manufacturer\",\n",
    "    \"Konzentration [%]\": \"Concentration\",\n",
    "    \"Dichte [g/cm\\u00b3]\": \"Density\",\n",
    "}\n",
    "\n",
    "# Division list\n",
    "Division_list = [\n",
    "    \"1.1 Inorganic Trace Analysis\",\n",
    "    \"1.2 Biophotonics\",\n",
    "    \"1.3 Instrumental Analytics\",\n",
    "    \"1.4 Process Analytical Technology\",\n",
    "    \"1.5 Protein Analysis\",\n",
    "    \"1.6 Inorganic Reference Materials\",\n",
    "    \"1.7 Organic Trace and Food Analysis\",\n",
    "    \"1.8 Environmental Analysis\",\n",
    "    \"1.9 Chemical and Optical Sensing\",\n",
    "    \"2.1 Safety of Energy Carriers\",\n",
    "    \"2.2 Process Simulation\",\n",
    "    \"2.3 Classification of Hazardous Substances and Dangerous Goods\",\n",
    "    \"2.4 Testing and Evaluation of Explosives and Pyrotechnics\",\n",
    "    \"2.5 Conformity Assessment Explosives and Pyrotechnics\",\n",
    "    \"3.1 Safety of Dangerous Goods Packagings and Batteries\",\n",
    "    \"3.2 Safety of Energy Storage Systems\",\n",
    "    \"3.3 Safety of Transport Containers\",\n",
    "    \"3.4 Safety of Storage Containers\",\n",
    "    \"3.5 Safety of Gas Storage Systems and Tanks For Dangerous Goods\",\n",
    "    \"3.6 Electrochemical Energy Materials\",\n",
    "    \"4.1 Biodeterioration and Reference Organisms\",\n",
    "    \"4.2 Material-Microbiome Interactions\",\n",
    "    \"4.3 Molecular and Applied Entomology\",\n",
    "    \"4.4 Thermochemical Residues Treatment and Resource Recovery\",\n",
    "    \"4.5 Analysis of Artefacts and Cultural Assets\",\n",
    "    \"5.1 Microstructural Design and Degradation\",\n",
    "    \"5.2 Metallic High-Temperature Materials\",\n",
    "    \"5.3 Polymer Matrix Composites\",\n",
    "    \"5.4 Advanced Multi-materials Processing\",\n",
    "    \"5.5 Materials Modelling\",\n",
    "    \"5.6 Glasses\",\n",
    "    \"6.1 Surface and Thin Film Analysis\",\n",
    "    \"6.2 Material and Surface Technologies\",\n",
    "    \"6.3 Structure Analysis\",\n",
    "    \"6.4 Materials Informatics\",\n",
    "    \"6.5 Synthesis and Scattering of Nanostructured Materials\",\n",
    "    \"6.6 Digital Materials Chemistry\",\n",
    "    \"6.7 Materials Synthesis and Design\",\n",
    "    \"7.1 Building Materials\",\n",
    "    \"7.2 Buildings and Structures\",\n",
    "    \"7.3 Fire Engineering\",\n",
    "    \"7.4 Technology of Construction Materials\",\n",
    "    \"7.5 Technical Properties of Polymeric Materials\",\n",
    "    \"7.6 Corrosion and Corrosion Protection\",\n",
    "    \"7.7 Modelling and Simulation\",\n",
    "    \"8.1 Sensors, Measurement and Testing Methods\",\n",
    "    \"8.2 Non-Destructive Testing Methods For Civil Engineering\",\n",
    "    \"8.3 Thermographic Methods\",\n",
    "    \"8.4 Acoustic and Electromagnetic Methods\",\n",
    "    \"8.5 X-Ray Imaging\",\n",
    "    \"8.6 Fibre Optic Sensors\",\n",
    "    \"9.1 Components For Energy Carriers\",\n",
    "    \"9.2 Testing Devices and Equipment\",\n",
    "    \"9.3 Welding Technology\",\n",
    "    \"9.4 Weld Mechanics\",\n",
    "    \"9.5 Tribology and Wear Protection\",\n",
    "    \"9.6 Additive Manufacturing of Metallic Components\",\n",
    "    \"S.1 Quality In Testing\",\n",
    "    \"S.2 Digitalization of Quality Infrastructure\",\n",
    "    \"S.3 Ecodesign and Energy Labelling\",\n",
    "    \"Z.1 Organisation, Controlling\",\n",
    "    \"Z.2 Budget\",\n",
    "    \"Z.3 Human Resources\",\n",
    "    \"Z.4 Education and Training, Health Management\",\n",
    "    \"Z.5 Procurement\",\n",
    "    \"Z.6 Internal Services\",\n",
    "    \"Z.7 Buildings\",\n",
    "    \"Z.8 Legal Services office, Library\",\n",
    "    \"Z.9 Research Services\"\n",
    "]\n",
    "\n",
    "# Notes content\n",
    "note_cols = [\"Piktogramme\", \"Reinheit\", \"Druck [Bar]\", \"max. Menge\", \"Konzentration [%]\", \"CMR\", \"H-Sätze\", \"EUH-Sätze\", \"P-Sätze\"]\n",
    "\n",
    "# Product Category from openBIS\n",
    "allowed_pc_codes = {\"PC0\", \"PC1\", \"PC2\", \"PC3\", \"PC4\", \"PC7\", \"PC8\", \"PC9A\", \"PC9B\", \"PC9C\",\n",
    "    \"PC11\", \"PC12\", \"PC13\", \"PC14\", \"PC15\", \"PC16\", \"PC17\", \"PC18\", \"PC20\", \"PC21\",\n",
    "    \"PC23\", \"PC24\", \"PC25\", \"PC26\", \"PC27\", \"PC28\", \"PC29\", \"PC30\", \"PC31\", \"PC32\",\n",
    "    \"PC33\", \"PC34\", \"PC35\", \"PC36\", \"PC37\", \"PC38\", \"PC39\", \"PC40\", \"PC41\", \"PC42\"}"
   ]
  },
  {
   "cell_type": "markdown",
   "id": "108c68b1-a7d5-4214-b384-1f4c6f44996b",
   "metadata": {},
   "source": [
    "# Utility functions"
   ]
  },
  {
   "cell_type": "code",
   "execution_count": 8,
   "id": "48e47192-379d-4c4a-bd97-12377a1ed2d9",
   "metadata": {},
   "outputs": [],
   "source": [
    "def get_bam_path(name):\n",
    "    \"\"\"Convert a person's full name into a BAM path format.\"\"\"\n",
    "    if not isinstance(name, str) or name.strip() == \"\":\n",
    "        return None\n",
    "    replacements = {'ä': 'ae', 'ö': 'oe', 'ü': 'ue', 'Ä': 'Ae', 'Ö': 'Oe', 'Ü': 'Ue'}\n",
    "    for orig, repl in replacements.items():\n",
    "        name = name.replace(orig, repl)\n",
    "    parts = name.strip().split()\n",
    "    if len(parts) < 2:\n",
    "        return None\n",
    "    first_letter = parts[-1][0].upper()\n",
    "    last_part = parts[0][:7].upper()\n",
    "    return f\"/BAM_GLOBAL/BAM_DATA/{first_letter}{last_part}\"\n",
    "\n",
    "def get_division_name(code: str) -> str:\n",
    "    \"\"\"Return the full division name given its numeric code (e.g. '1.1').\"\"\"\n",
    "    for item in Division_list :\n",
    "        if item.startswith(code + \" \"):\n",
    "            return item\n",
    "    return \"Division not found\"\n",
    "\n",
    "def clean_concentration_with_log(val):\n",
    "    \"\"\"\n",
    "    Clean a concentration value (as string), remove symbols (<, >, %, etc.),\n",
    "    convert it to float, and return a validation log message.\n",
    "    \"\"\"\n",
    "    if not isinstance(val, str):\n",
    "        return (None, \"Invalid: not a string\")\n",
    "\n",
    "    original = val.strip()\n",
    "    val = original.replace('%', '').replace('<', '').replace('>', '')\n",
    "\n",
    "    if '-' in val:\n",
    "        return (0.0, f\"Range detected in '{original}' → set to 0\")\n",
    "\n",
    "    match = re.search(r'[\\d.,]+', val)\n",
    "    if match:\n",
    "        num = match.group().replace(',', '.')\n",
    "        try:\n",
    "            return (float(num), None)\n",
    "        except:\n",
    "            return (None, f\"Invalid number in '{original}'\")\n",
    "\n",
    "    return (None, f\"Unrecognized format: '{original}'\")\n",
    "\n",
    "def build_notes(row):\n",
    "    \"\"\"\n",
    "    Build 'Notes' by concatenating values from specific columns.\n",
    "    Empty cells are replaced with 'None'.\n",
    "    \"\"\"\n",
    "    return \" | \".join(\n",
    "        f\"{col}: {row[col] if pd.notna(row[col]) and str(row[col]).strip() else 'None'}\"\n",
    "        for col in note_cols\n",
    "        if col in row\n",
    "    )\n",
    "\n",
    "def extract_pc_code(cat):\n",
    "    \"\"\"\n",
    "    Extract the product category code (e.g. 'PC1') from a string.\n",
    "    Return it only if it is in the list of allowed codes.\n",
    "    \"\"\"\n",
    "    if not isinstance(cat, str):\n",
    "        return None\n",
    "    code = cat.split()[0]\n",
    "    return code if code in allowed_pc_codes else None\n",
    "\n",
    "def concat_location(row):\n",
    "    \"\"\"\n",
    "    Concatenate the BAM location columns into a single formatted string.\n",
    "    Format: Liegenschaft/Haus/Etage/Raum-Nr\n",
    "    \"\"\"\n",
    "    location_cols = [\"Liegenschaft\", \"Haus\", \"Etage\", \"Raum-Nr\"]\n",
    "    return \"/\".join(str(row[col]).strip() for col in location_cols if pd.notna(row.get(col)) and str(row[col]).strip())\n",
    "\n",
    "def generate_code(row):\n",
    "    \"\"\"\n",
    "    Generate a unique code in the format 'CHEM-<Organisationseinheit>-<Umgang-Id>',\n",
    "    with Umgang-Id zero-padded to 4 digits.\n",
    "    \"\"\"\n",
    "    entity = row[\"Organisationseinheit\"]\n",
    "    umgang_id = str(row[\"Umgang-Id\"]).zfill(4)\n",
    "    if pd.isna(entity) or pd.isna(umgang_id):\n",
    "        return None\n",
    "    return f\"CHEM-{entity}-{umgang_id}\""
   ]
  },
  {
   "cell_type": "markdown",
   "id": "92e61a44-ecf6-4ded-adfe-0b401e95a678",
   "metadata": {},
   "source": [
    "# Data loading & pre-processing"
   ]
  },
  {
   "cell_type": "code",
   "execution_count": 9,
   "id": "d796d725-8d59-4d3f-bc04-c80a177cf5b0",
   "metadata": {},
   "outputs": [],
   "source": [
    "# Load the source Excel file\n",
    "df_source = pd.read_excel(source_path, header=0, engine='openpyxl', dtype=str)\n",
    "\n",
    "# Create an empty final DataFrame\n",
    "df_final = pd.DataFrame()\n",
    "\n",
    "# Add the '$' column by prefixing 'Umgang-Id' with a dollar sign.\n",
    "# This will be used to generate the sample code and link samples between SigmaBAM and openBIS.\n",
    "df_final['$'] = df_source['Umgang-Id'].apply(lambda x: f\"${x}\")\n",
    "\n",
    "# Apply column mapping from source to final DataFrame\n",
    "for source_col, final_col in column_map.items():\n",
    "    df_final[final_col] = df_source.get(source_col, None)\n",
    "\n",
    "# Apply 'Responsible person' column using get_bam_path if the source column exists\n",
    "if responsible_source in df_source.columns:\n",
    "    df_final[\"Responsible person\"] = df_source[responsible_source].apply(get_bam_path)\n",
    "else:\n",
    "    df_final[\"Responsible person\"] = None\n",
    "\n",
    "# Apply 'BAM Organizational Entity' column using get_division_name if the source column exists\n",
    "if \"Organisationseinheit\" in df_source.columns:\n",
    "    df_final[\"BAM Organizational Entity\"] = df_source[\"Organisationseinheit\"].astype(str).apply(get_division_name)\n",
    "else:\n",
    "    df_final[\"BAM Organizational Entity\"] = None\n",
    "\n",
    "# Clean the 'Concentration' column and generate a validation log.\n",
    "# The log records entries that can't be converted to valid numbers (required by openBIS).\n",
    "# Only 'Concentration' is included in the final output; the 'Validation Log' is saved for debugging.\n",
    "df_final[['Concentration', 'Validation Log']] = df_source[\"Konzentration [%]\"].apply(clean_concentration_with_log).apply(pd.Series)\n",
    "\n",
    "# Build the 'Notes' column by applying build_notes function row-wise\n",
    "df_final[\"Notes\"] = df_source.apply(build_notes, axis=1)"
   ]
  },
  {
   "cell_type": "markdown",
   "id": "b3e911ec-b9b9-4910-88bb-18f0a610063f",
   "metadata": {},
   "source": [
    "# Advanced mapping, calculated columns"
   ]
  },
  {
   "cell_type": "code",
   "execution_count": 10,
   "id": "1c16cc0e-d37b-4c3a-b747-b41c456197c1",
   "metadata": {},
   "outputs": [],
   "source": [
    "# Mandatory column (None if missing)\n",
    "final_columns = [\n",
    "    '$', 'Name', 'Alternative Name', 'IUPAC Name', 'CAS Registry Number', 'Manufacturer',\n",
    "    'Supplier', 'Lot/Batch Number', 'External Barcode', 'Description', 'Product Category',\n",
    "    'Hazardous Substance', 'BAM Organizational Entity', 'Complete BAM Location',\n",
    "    'Responsible person', 'Molar Mass', 'Density', 'Concentration',\n",
    "    'Bottling Date', 'Opening Date', 'Expiration Date', 'Empty', 'Notes', 'Comments', 'Code', 'Identifier'\n",
    "]\n",
    "\n",
    "for col in final_columns:\n",
    "    if col not in df_final.columns:\n",
    "        df_final[col] = None\n",
    "\n",
    "# Hazardous Substance booleans\n",
    "hazard_cols = [\"H-Sätze\", \"EUH-Sätze\", \"P-Sätze\", \"CMR\"]\n",
    "df_final[\"Hazardous Substance\"] = df_source.apply(\n",
    "    lambda row: \"true\" if any(pd.notna(row.get(col)) and str(row.get(col)).strip() != \"\" for col in hazard_cols) else \"false\",\n",
    "    axis=1\n",
    ")\n",
    "\n",
    "# Product Category\n",
    "if \"Produktkategorie\" in df_source.columns:\n",
    "    df_final[\"Product Category\"] = df_source[\"Produktkategorie\"].apply(extract_pc_code)\n",
    "\n",
    "# Complete BAM Location\n",
    "df_final[\"Complete BAM Location\"] = df_source.apply(concat_location, axis=1)\n",
    "\n",
    "# Code and Identifier\n",
    "df_final[\"Code\"] = df_source.apply(generate_code, axis=1)\n",
    "df_final['Identifier'] = identifier_prefix + df_final['Code'].astype(str)"
   ]
  },
  {
   "cell_type": "markdown",
   "id": "8670a9d0-54bc-4532-94d2-e8693ef5cade",
   "metadata": {},
   "source": [
    "# Excel output & formatting"
   ]
  },
  {
   "cell_type": "markdown",
   "id": "1eaf24ed-2813-423d-9b87-203992ff0174",
   "metadata": {},
   "source": [
    "## Debug file generation"
   ]
  },
  {
   "cell_type": "code",
   "execution_count": 11,
   "id": "5f1c3a0d-8fd3-4be3-85af-45af8814b56c",
   "metadata": {},
   "outputs": [
    {
     "name": "stderr",
     "output_type": "stream",
     "text": [
      "INFO:root:Validation Log column added to help verify concentration formatting.\n"
     ]
    },
    {
     "name": "stdout",
     "output_type": "stream",
     "text": [
      "----------------------------------------------------------------------------------------------------\n",
      "Debug file generated: DEBUG_CHEMICALS_2025_08_13.xlsx\n",
      "Debug file path: C:\\Users\\troussea\\Documents\\Code\\Projects\\ProjetopenBIS\\Mapping\\DEBUG_CHEMICALS_2025_08_13.xlsx\n"
     ]
    }
   ],
   "source": [
    "# Ensure 'Validation Log' column exists in df_final for debug purposes\n",
    "if \"Validation Log\" not in df_final.columns:\n",
    "    df_final[\"Validation Log\"] = None  # Add empty column if missing\n",
    "\n",
    "# Save Excel file starting from row 4 (header offset)\n",
    "df_final.to_excel(debug_output, index=False, startrow=3, engine='openpyxl')\n",
    "\n",
    "# Modify header formatting and content\n",
    "wb = load_workbook(debug_output)\n",
    "ws = wb.active\n",
    "ws[\"A1\"] = \"SAMPLE\"\n",
    "ws[\"A2\"] = \"Sample type\"\n",
    "ws[\"A3\"] = \"CHEMICAL\"\n",
    "ws[\"A3\"].font = Font(bold=True)\n",
    "ws[\"A1\"].fill = PatternFill(start_color=\"FFA500\", end_color=\"FFA500\", fill_type=\"solid\")\n",
    "wb.save(debug_output)\n",
    "\n",
    "logging.basicConfig(level=logging.INFO)\n",
    "\n",
    "# Inform user that Validation Log column is included for concentration check\n",
    "logging.info(\"Validation Log column added to help verify concentration formatting.\")\n",
    "\n",
    "print(\"-\" * 100)\n",
    "print(f\"Debug file generated: {debug_output}\")\n",
    "print(f\"Debug file path: {os.path.abspath(debug_output)}\")"
   ]
  },
  {
   "cell_type": "markdown",
   "id": "12c0ad11-4da1-45b4-996c-eb7090c51fcc",
   "metadata": {},
   "source": [
    "## Update file generation"
   ]
  },
  {
   "cell_type": "code",
   "execution_count": 12,
   "id": "6a8b017b-1540-4345-a725-4860829488c1",
   "metadata": {},
   "outputs": [
    {
     "name": "stdout",
     "output_type": "stream",
     "text": [
      "Update file generated: UPDATE_CHEMICALS_2025_08_13.xlsx\n",
      "Update file path: C:\\Users\\troussea\\Documents\\Code\\Projects\\ProjetopenBIS\\Mapping\\UPDATE_CHEMICALS_2025_08_13.xlsx\n"
     ]
    }
   ],
   "source": [
    "# Remove 'Validation Log' column if it exists, ignore error if not present\n",
    "df_final.drop(columns=[\"Validation Log\"], inplace=True, errors='ignore')\n",
    "\n",
    "# Save the dataframe to Excel starting from row 4 (header offset)\n",
    "df_final.to_excel(update_output, index=False, startrow=3, engine='openpyxl')\n",
    "\n",
    "# Modify Excel header cells and formatting\n",
    "wb = load_workbook(update_output)\n",
    "ws = wb.active\n",
    "ws[\"A1\"] = \"SAMPLE\"\n",
    "ws[\"A2\"] = \"Sample type\"\n",
    "ws[\"A3\"] = \"CHEMICAL\"\n",
    "ws[\"A3\"].font = Font(bold=True)\n",
    "ws[\"A1\"].fill = PatternFill(start_color=\"FFA500\", end_color=\"FFA500\", fill_type=\"solid\")\n",
    "\n",
    "# Save changes to the Excel file\n",
    "wb.save(update_output)\n",
    "\n",
    "# Inform user about the generated debug file location\n",
    "print(f\"Update file generated: {update_output}\")\n",
    "print(f\"Update file path: {os.path.abspath(update_output)}\")"
   ]
  },
  {
   "cell_type": "markdown",
   "id": "5c0c1f90-d64f-45cc-a001-68c377deb1ff",
   "metadata": {},
   "source": [
    "## Register file generation"
   ]
  },
  {
   "cell_type": "code",
   "execution_count": 16,
   "id": "dd71b006-dcd2-47fc-a338-73322b76e281",
   "metadata": {},
   "outputs": [
    {
     "name": "stdout",
     "output_type": "stream",
     "text": [
      "All identifier were found in the selected collection\n"
     ]
    }
   ],
   "source": [
    "# Get all sample identifiers from this collection\n",
    "samples = o.get_samples(space=space.code, project=project.code, collection=collection.code)\n",
    "openbis_ids = [s.identifier for s in samples]\n",
    "\n",
    "# Load Excel\n",
    "df_source = pd.read_excel(update_output, header=3, engine=\"openpyxl\", dtype=str)\n",
    "\n",
    "# Get identifiers from Excel\n",
    "excel_ids = df_source[\"Identifier\"].tolist()\n",
    "\n",
    "# Compare lists\n",
    "to_be_added_list = [i for i in excel_ids if i not in openbis_ids] # list of identifiers that exists in the Excel but not in openBIS\n",
    "if len(to_be_added_list) == 0:\n",
    "    print(\"All identifier were already found in the selected collection\")\n",
    "else:\n",
    "    print(to_be_added_list)\n",
    "    print(f\"{len(to_be_added_list)} identifiers missing in openBIS.\")\n",
    "    print(f\"New samples {to_be_added_list}\")\n",
    "\n",
    "# Filter Excel and save\n",
    "df_filtered = df_source[df_source[\"Identifier\"].isin(to_be_added_list)]\n",
    "today = datetime.today().strftime(\"%Y_%m_%d\")\n",
    "df_filtered.to_excel(register_output, index=False, startrow=3, engine=\"openpyxl\")\n",
    "\n",
    "# Modify Excel header cells and formatting\n",
    "wb = load_workbook(register_output)\n",
    "ws = wb.active\n",
    "ws[\"A1\"] = \"SAMPLE\"\n",
    "ws[\"A2\"] = \"Sample type\"\n",
    "ws[\"A3\"] = \"CHEMICAL\"\n",
    "ws[\"A3\"].font = Font(bold=True)\n",
    "ws[\"A1\"].fill = PatternFill(start_color=\"FFA500\", end_color=\"FFA500\", fill_type=\"solid\")\n",
    "\n",
    "# Save changes to the Excel file\n",
    "wb.save(register_output)\n",
    "\n",
    "if len(to_be_added_list) != 0:\n",
    "    print(f\"New samples added in the file saved as: {register_output}\")"
   ]
  },
  {
   "cell_type": "markdown",
   "id": "ebb78f2d-9de7-42ba-ab94-ffcbb66ce5da",
   "metadata": {},
   "source": [
    "# Add pictograms as clickable links to the notes"
   ]
  },
  {
   "cell_type": "code",
   "execution_count": null,
   "id": "6d8d91b6-ec0d-4c5f-8d7d-c30c9fe37a19",
   "metadata": {},
   "outputs": [],
   "source": [
    "# Removed from final version adding them in as dataset is enough See version 0.1 to see the code"
   ]
  },
  {
   "cell_type": "markdown",
   "id": "1549535f-5f0b-412f-a2ec-56a7bd75de73",
   "metadata": {},
   "source": [
    "# Add pictograms as dataset"
   ]
  },
  {
   "cell_type": "markdown",
   "id": "e1cc709f-feff-479b-96b9-7219c7c08b4b",
   "metadata": {},
   "source": [
    "Manually select the folder where you saved the pictograms"
   ]
  },
  {
   "cell_type": "code",
   "execution_count": 18,
   "id": "26e15669-65ed-43d6-b8ef-eec30f14c001",
   "metadata": {},
   "outputs": [
    {
     "name": "stdout",
     "output_type": "stream",
     "text": [
      "Selected folder: C:\\Users\\troussea\\Documents\\Code\\Projects\\ProjetopenBIS\\Mapping\\GHS Pictograms\n"
     ]
    }
   ],
   "source": [
    "# Hide the main Tkinter window\n",
    "root = tk.Tk()\n",
    "root.withdraw()\n",
    "\n",
    "# Ask the user to select a folder\n",
    "folder_path = filedialog.askdirectory(\n",
    "    title=\"Select pictogram folder\"\n",
    ")\n",
    "\n",
    "if folder_path:\n",
    "    local_ghs_folder = Path(folder_path)\n",
    "    print(f\"Selected folder: {local_ghs_folder}\")\n",
    "else:\n",
    "    print(\"No folder selected.\")\n"
   ]
  },
  {
   "cell_type": "markdown",
   "id": "8617577f-22b1-4e75-9950-0799b87f9dbe",
   "metadata": {},
   "source": [
    "if not working copy paste the path of the folder that contains the pictograms and uncomment the following line"
   ]
  },
  {
   "cell_type": "code",
   "execution_count": null,
   "id": "09a4ae75-e67a-4a2c-933c-86bc5582cabe",
   "metadata": {},
   "outputs": [],
   "source": [
    "#local_ghs_folder = r\"\""
   ]
  },
  {
   "cell_type": "code",
   "execution_count": 20,
   "id": "7198dd93-ee98-4638-945d-1d717fa34005",
   "metadata": {},
   "outputs": [],
   "source": [
    "# Local pictogram folder and mapping\n",
    "ghs_filenames = {\n",
    "    \"GHS01\": \"GHS01 - explosive.png\",\n",
    "    \"GHS02\": \"GHS02 - flammable.png\",\n",
    "    \"GHS03\": \"GHS03 - oxidizing.png\",\n",
    "    \"GHS04\": \"GHS04 - compressed gas.png\",\n",
    "    \"GHS05\": \"GHS05 - corrosive.png\",\n",
    "    \"GHS06\": \"GHS06 - toxic.png\",\n",
    "    \"GHS07\": \"GHS07 - health hazard.png\",\n",
    "    \"GHS08\": \"GHS08 - serious health hazard.png\",\n",
    "    \"GHS09\": \"GHS09 - hazardous to the environment.png\", \n",
    "}"
   ]
  },
  {
   "cell_type": "code",
   "execution_count": 21,
   "id": "a0578931-7657-4f71-aa5c-4ff859bbfbe2",
   "metadata": {},
   "outputs": [
    {
     "name": "stdout",
     "output_type": "stream",
     "text": [
      "Dataset with name='GHS01 - explosive.png' already exists on sample CHEM-5.4-0001, skipping.\n",
      "Dataset with name='GHS04 - compressed gas.png' already exists on sample CHEM-5.4-0001, skipping.\n",
      "Dataset with name='GHS08 - serious health hazard.png' already exists on sample CHEM-5.4-0001, skipping.\n",
      "Dataset with name='GHS09 - hazardous to the environment.png' already exists on sample CHEM-5.4-0001, skipping.\n",
      "Dataset with name='GHS04 - compressed gas.png' already exists on sample CHEM-5.4-0002, skipping.\n",
      "Dataset with name='GHS04 - compressed gas.png' already exists on sample CHEM-5.4-0003, skipping.\n",
      "Dataset with name='GHS07 - health hazard.png' already exists on sample CHEM-5.4-0004, skipping.\n",
      "Dataset with name='GHS07 - health hazard.png' already exists on sample CHEM-5.4-0013, skipping.\n",
      "Dataset with name='GHS02 - flammable.png' already exists on sample CHEM-5.4-0014, skipping.\n",
      "Dataset with name='GHS03 - oxidizing.png' already exists on sample CHEM-5.4-0014, skipping.\n",
      "Dataset with name='GHS04 - compressed gas.png' already exists on sample CHEM-5.4-0005, skipping.\n",
      "No new pictogram datasets were added because they were already present.\n"
     ]
    }
   ],
   "source": [
    "def dataset_exists_with_name(sample, filename):\n",
    "    datasets = o.get_datasets(sample=sample.permId)\n",
    "    for ds in datasets:\n",
    "        if ds.props.get(\"$name\") == filename:\n",
    "            return True\n",
    "    return False\n",
    "\n",
    "samples = o.get_samples(collection=collection.code)\n",
    "\n",
    "added_any = False\n",
    "for sample in samples:\n",
    "    notes_content = sample.props[\"notes\"].strip()\n",
    "    found_codes = [code for code in ghs_filenames if code in notes_content]\n",
    "\n",
    "    for code in found_codes:\n",
    "        filename = ghs_filenames[code]\n",
    "        file_path = os.path.join(local_ghs_folder, filename)\n",
    "\n",
    "        if not os.path.exists(file_path):\n",
    "            print(f\"File not found: {file_path}\")\n",
    "            continue\n",
    "\n",
    "        if dataset_exists_with_name(sample, filename):\n",
    "            print(f\"Dataset with name='{filename}' already exists on sample {sample.code}, skipping.\")\n",
    "            continue\n",
    "\n",
    "        dataset = o.new_dataset(\n",
    "            type=\"RAW_DATA\",\n",
    "            files=[file_path],\n",
    "            props={\"$name\": filename}\n",
    "        )\n",
    "        dataset.sample = sample\n",
    "\n",
    "        if hasattr(sample, \"experiment\") and sample.experiment:\n",
    "            dataset.experiment = sample.experiment\n",
    "        else:\n",
    "            raise ValueError(f\"No experiment associated with sample {sample.code}\")\n",
    "\n",
    "        dataset.save()\n",
    "        added_any = True\n",
    "        print(f\"Dataset created and attached with name '{filename}': {filename} -> {sample.code}\")\n",
    "\n",
    "if added_any:\n",
    "    print(\"Pictograms have been added as datasets where missing.\")\n",
    "else:\n",
    "    print(\"No new pictogram datasets were added because they were already present.\")\n"
   ]
  },
  {
   "cell_type": "code",
   "execution_count": null,
   "id": "81e6ff4c-e8dd-4818-9f71-61913540402b",
   "metadata": {},
   "outputs": [],
   "source": []
  }
 ],
 "metadata": {
  "kernelspec": {
   "display_name": "Python (myenvconda)",
   "language": "python",
   "name": "myenvconda"
  },
  "language_info": {
   "codemirror_mode": {
    "name": "ipython",
    "version": 3
   },
   "file_extension": ".py",
   "mimetype": "text/x-python",
   "name": "python",
   "nbconvert_exporter": "python",
   "pygments_lexer": "ipython3",
   "version": "3.10.17"
  }
 },
 "nbformat": 4,
 "nbformat_minor": 5
}
